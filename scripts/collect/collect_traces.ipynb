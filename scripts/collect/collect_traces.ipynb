{
 "cells": [
  {
   "cell_type": "code",
   "execution_count": null,
   "metadata": {},
   "outputs": [],
   "source": [
    "import h5py\n",
    "import matplotlib.pyplot as plt\n",
    "import numpy as np\n",
    "import os\n",
    "import paramiko\n",
    "import pickle\n",
    "import scipy as sp\n",
    "import socket\n",
    "import struct\n",
    "import sys\n",
    "import time\n",
    "\n",
    "from datetime import datetime\n",
    "from random import randrange\n",
    "from tqdm.notebook import tqdm"
   ]
  },
  {
   "cell_type": "markdown",
   "metadata": {},
   "source": [
    "Note that this document only provides the basic structure to interface with the gadgets. To collect the traces, add the code to interface with your scope at the places marked `TODO`."
   ]
  },
  {
   "cell_type": "code",
   "execution_count": null,
   "metadata": {},
   "outputs": [],
   "source": [
    "# Add the IP address of your target here\n",
    "VICTIM_IP = \"IP\" "
   ]
  },
  {
   "cell_type": "code",
   "execution_count": null,
   "metadata": {},
   "outputs": [],
   "source": [
    "client_socket = socket.socket(socket.AF_INET, socket.SOCK_DGRAM)\n",
    "client_socket.settimeout(5)\n",
    "\n",
    "addr_gagdet = (VICTIM_IP, 10000)\n",
    "\n",
    "def access_gadget(index: int):   \n",
    "    message = struct.pack(\"<I\", index)\n",
    "    \n",
    "    client_socket.sendto(message, addr_gagdet)\n",
    "    data, _ = client_socket.recvfrom(1024)\n",
    "    \n",
    "    # Server should return the same message\n",
    "    assert message == data"
   ]
  },
  {
   "cell_type": "code",
   "execution_count": null,
   "metadata": {},
   "outputs": [],
   "source": [
    "def train(nb_training_packets=5):\n",
    "    for _ in range(nb_training_packets):\n",
    "        access_gadget(2)     # bit 2 evaluates to 1\n",
    "        # access_gadget(0)   # bit 0 evaluates to 0"
   ]
  },
  {
   "cell_type": "code",
   "execution_count": null,
   "metadata": {},
   "outputs": [],
   "source": [
    "class IndexGenerator():\n",
    "    def __init__(self, start, end=None, random=False, repeat=None):\n",
    "        self.random = random\n",
    "        \n",
    "        if random:\n",
    "            assert end is not None\n",
    "            self.end = end\n",
    "            self.repeat = repeat\n",
    "            self.prev = None\n",
    "        else:\n",
    "            assert end is None\n",
    "            assert repeat is not None\n",
    "            self.repeat = repeat\n",
    "            \n",
    "        self.start = start\n",
    "        self.i = start\n",
    "        self.rep = 0\n",
    "            \n",
    "    def __next__(self):\n",
    "        if self.random:\n",
    "            if self.rep >= self.repeat or self.prev is None:\n",
    "                self.prev = randrange(self.start, self.end)\n",
    "                self.rep = 0\n",
    "            self.rep += 1\n",
    "            return self.prev\n",
    "        else:\n",
    "            if self.rep >= self.repeat:\n",
    "                self.rep = 0\n",
    "                self.i += 1\n",
    "\n",
    "            self.rep += 1\n",
    "\n",
    "            return self.i\n",
    "    \n",
    "    def reset_frame(self, framesize):\n",
    "        if not self.random:\n",
    "            nbreturned = (self.i - self.start) * self.repeat + self.rep\n",
    "\n",
    "            print(nbreturned)\n",
    "\n",
    "            nbresume = (nbreturned // framesize) * framesize\n",
    "            nbresume = nbresume if nbresume < nbreturned else nbresume - framesize\n",
    "\n",
    "            self.i = nbresume // self.repeat + self.start\n",
    "            self.rep = nbresume % self.repeat"
   ]
  },
  {
   "cell_type": "code",
   "execution_count": null,
   "metadata": {},
   "outputs": [],
   "source": [
    "def acquireFrame(index_generator, nb_training_packets = 5, framesize=4096):\n",
    "    global traces_i\n",
    "    \n",
    "    # TODO: Add the code to start the capture of a frame on your scope\n",
    "    # scope.start_frame(framesize)\n",
    "    \n",
    "    inputs = np.zeros((framesize), dtype='uint32')\n",
    "    \n",
    "    for i in tqdm(range(framesize), leave=False, desc=\"Collecting traces\"):  \n",
    "        # Train the branch predictor\n",
    "        train(nb_training_packets)\n",
    "        \n",
    "        # Access the gadget\n",
    "        ind = next(index_generator)\n",
    "        access_gadget(ind)\n",
    "        inputs[i] = ind\n",
    "        \n",
    "    time.sleep(1)\n",
    "\n",
    "    # TODO: Add the code to stop the capture of a frame and read out the traces\n",
    "    # traces = scope.get_traces()\n",
    "    \n",
    "    s = slice(traces_i, traces_i+framesize)\n",
    "    tracesDset[s] = traces\n",
    "    inputsDset[s] = inputs\n",
    "        \n",
    "    traces_i += framesize  "
   ]
  },
  {
   "cell_type": "code",
   "execution_count": null,
   "metadata": {
    "scrolled": false
   },
   "outputs": [],
   "source": [
    "def collect_traces(nbtraces, index_generator, nb_training_packets=5, framesize=4096):\n",
    "    # global scope\n",
    "\n",
    "    # TODO: connect to your scope\n",
    "    # scope = Scope()\n",
    "\n",
    "    nFrames = nbtraces // framesize\n",
    "\n",
    "    k = 0\n",
    "    pbar = tqdm(total = nFrames, initial=k, desc=\"Collecting frames\", leave=False)\n",
    "\n",
    "    while k < nFrames:\n",
    "        # Collecting traces\n",
    "        acquireFrame(index_generator, nb_training_packets=nb_training_packets)  \n",
    "\n",
    "        k+=1\n",
    "        pbar.update(1)\n",
    "        "
   ]
  },
  {
   "cell_type": "code",
   "execution_count": null,
   "metadata": {},
   "outputs": [],
   "source": [
    "def create_new_file(filename, ntraces):\n",
    "    global tracesDset, inputsDset, traces_i\n",
    "    experiment = \"data\"\n",
    "    \n",
    "    f = h5py.File(filename, 'x', libver='latest')\n",
    "\n",
    "    # create a new group with the name defined by experiment and add some datasets to it\n",
    "    expg = f.create_group(experiment)\n",
    "\n",
    "    tracesDset = expg.create_dataset(\"traces\", (ntraces, 25000), dtype='uint8')\n",
    "    inputsDset = expg.create_dataset(\"inputs\", (ntraces,), dtype='uint32')\n",
    "\n",
    "    traces_i = 0\n",
    "    \n",
    "    return f"
   ]
  },
  {
   "cell_type": "markdown",
   "metadata": {},
   "source": [
    "## Collecting traces\n",
    "\n",
    "We now collect the traces from the target device. Before running this cell, first start one of the POCs on the target device."
   ]
  },
  {
   "cell_type": "code",
   "execution_count": null,
   "metadata": {},
   "outputs": [],
   "source": [
    "nbtraces = 4096*4\n",
    "\n",
    "t0 = time.perf_counter_ns()\n",
    "\n",
    "# Create a new file that will contain the traces\n",
    "filename = \"/tmp/traces.hdf5\"\n",
    "f = create_new_file(filename, nbtraces)  \n",
    "\n",
    "# Collect the traces\n",
    "index_generator = IndexGenerator(start=5*8, end=37*8, random=True, repeat = 1)\n",
    "collect_traces(nbtraces, index_generator, nb_training_packets=5)\n",
    "\n",
    "f.close()\n",
    "\n",
    "t1 = time.perf_counter_ns()\n",
    "\n",
    "print(f\"Getting traces: {(t1 - t0)/10**9} s\")"
   ]
  }
 ],
 "metadata": {
  "kernelspec": {
   "display_name": "Python 3.10.4 ('letsgetphysical')",
   "language": "python",
   "name": "python3"
  },
  "language_info": {
   "codemirror_mode": {
    "name": "ipython",
    "version": 3
   },
   "file_extension": ".py",
   "mimetype": "text/x-python",
   "name": "python",
   "nbconvert_exporter": "python",
   "pygments_lexer": "ipython3",
   "version": "3.10.4"
  },
  "vscode": {
   "interpreter": {
    "hash": "4ad583c4c013fce90e8ce0308c17365f7d912fe91c0aacff7e52a3a38123cd99"
   }
  }
 },
 "nbformat": 4,
 "nbformat_minor": 4
}
